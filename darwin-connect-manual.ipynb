{
 "cells": [
  {
   "cell_type": "code",
   "execution_count": null,
   "metadata": {},
   "outputs": [],
   "source": [
    "import sys\n",
    "from pymargo.core import Engine\n",
    "from pysdskv.client import *\n",
    "import matplotlib.pyplot as plt\n",
    "import numpy as np"
   ]
  },
  {
   "cell_type": "code",
   "execution_count": null,
   "metadata": {},
   "outputs": [],
   "source": [
    "engine = Engine('ofi+tcp')\n",
    "server_addr = \"ofi+tcp://192.168.101.195:1234\"\n",
    "provider_id = 1\n",
    "db_name = \"struc4\""
   ]
  },
  {
   "cell_type": "code",
   "execution_count": null,
   "metadata": {},
   "outputs": [],
   "source": [
    "client = SDSKVClient(engine)\n",
    "addr = engine.lookup(server_addr)\n",
    "provider_handle = client.create_provider_handle(addr, provider_id)\n",
    "db = provider_handle.open(db_name)"
   ]
  },
  {
   "cell_type": "code",
   "execution_count": null,
   "metadata": {},
   "outputs": [],
   "source": [
    "ts = int(db.get(\"current_timestep\"))\n",
    "print(ts)"
   ]
  },
  {
   "cell_type": "code",
   "execution_count": null,
   "metadata": {},
   "outputs": [],
   "source": [
    "np = int(db.get(\"num_papi_counters\"))\n",
    "print(np)"
   ]
  },
  {
   "cell_type": "code",
   "execution_count": null,
   "metadata": {},
   "outputs": [],
   "source": [
    "db.put(\"ADD_CATALYST_SCRIPT-1\",\"/projects/insituperf/InWrap/scripts/catalyst/miniAppUnstr_views.py\")"
   ]
  },
  {
   "cell_type": "code",
   "execution_count": null,
   "metadata": {},
   "outputs": [],
   "source": [
    "print(db.get(\"ADD_CATALYST_SCRIPT-1\"))"
   ]
  },
  {
   "cell_type": "code",
   "execution_count": null,
   "metadata": {},
   "outputs": [],
   "source": [
    "db.put(\"ADD_PAPI-0\",\"PAPI_L1_LDM\")\n",
    "db.put(\"NEW_KEY\",\"56478\")"
   ]
  },
  {
   "cell_type": "code",
   "execution_count": null,
   "metadata": {},
   "outputs": [],
   "source": [
    "np = int(db.get(\"num_papi_counters\"))\n",
    "print(np)"
   ]
  },
  {
   "cell_type": "code",
   "execution_count": null,
   "metadata": {},
   "outputs": [],
   "source": [
    "db.put(\"ADD_PAPI-0\",\"PAPI_L1_LDM\")"
   ]
  },
  {
   "cell_type": "code",
   "execution_count": null,
   "metadata": {},
   "outputs": [],
   "source": [
    "db.put(\"REMOVE_PAPI-0\",\"PAPI_BR_UCN\")\n",
    "db.put(\"NEW_KEY\",\"56479\")"
   ]
  },
  {
   "cell_type": "code",
   "execution_count": null,
   "metadata": {},
   "outputs": [],
   "source": [
    "np = int(db.get(\"num_papi_counters\"))\n",
    "print(np)"
   ]
  },
  {
   "cell_type": "code",
   "execution_count": null,
   "metadata": {},
   "outputs": [],
   "source": [
    "num_papi_counters = int(db.get(\"num_papi_counters\"))\n",
    "print(num_papi_counters)\n",
    "papi_counters = []\n",
    "for i in range(num_papi_counters):\n",
    "    key = \"papi_counter_\" + str(i)\n",
    "    papi_counters.append(db.get(key))\n",
    "\n",
    "print(papi_counters)"
   ]
  },
  {
   "cell_type": "code",
   "execution_count": null,
   "metadata": {},
   "outputs": [],
   "source": [
    "num_timesteps = int(db.get(\"current_timestep\"))-1\n",
    "print(num_timesteps)\n",
    "num_ranks = int(db.get(\"numRanks\"))\n",
    "\n",
    "counters = []\n",
    "count = 0\n",
    "for p in papi_counters:\n",
    "    r_counter = []\n",
    "    for r in range(num_ranks):\n",
    "        key = p + \"_\" + str(r)\n",
    "        value = db.get(key)\n",
    "        r_counter.append(int(value))\n",
    "    counters.append(r_counter)\n",
    "    count =  count + 1\n",
    "    \n",
    "print(counters)\n",
    "print(num_ranks)\n",
    "#ranks = np.arange(num_ranks)\n",
    "ranks =[0, 1, 2, 3, 4, 5, 6, 7, 8, 9, 10, 11, 12, 13, 14, 15]\n",
    "print(ranks)\n",
    "\n",
    "plt.plot(ranks, counters[0][0], label=papi_counters[0], linestyle='-', marker='o')\n",
    "plt.plot(ranks, counters[0][1], label=papi_counters[1], linestyle='-', marker='x')\n",
    "plt.plot(ranks, counters[0][2], label=papi_counters[2], linestyle='-', marker='.')\n",
    "plt.legend()\n",
    "plt.title(\"Papi counters\")"
   ]
  },
  {
   "cell_type": "code",
   "execution_count": null,
   "metadata": {},
   "outputs": [],
   "source": []
  }
 ],
 "metadata": {
  "kernelspec": {
   "display_name": "Python 3",
   "language": "python",
   "name": "python3"
  },
  "language_info": {
   "codemirror_mode": {
    "name": "ipython",
    "version": 3
   },
   "file_extension": ".py",
   "mimetype": "text/x-python",
   "name": "python",
   "nbconvert_exporter": "python",
   "pygments_lexer": "ipython3",
   "version": "3.7.3"
  }
 },
 "nbformat": 4,
 "nbformat_minor": 2
}
