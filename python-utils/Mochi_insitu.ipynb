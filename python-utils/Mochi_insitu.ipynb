{
 "cells": [
  {
   "cell_type": "code",
   "execution_count": 1,
   "metadata": {},
   "outputs": [],
   "source": [
    "import sys\n",
    "from pymargo.core import Engine\n",
    "from pysdskv.client import *\n",
    "import matplotlib.pyplot as plt\n",
    "import numpy as np"
   ]
  },
  {
   "cell_type": "code",
   "execution_count": 2,
   "metadata": {},
   "outputs": [],
   "source": [
    "engine = Engine('na+sm') \n",
    "# engine = Engine('ofi+tcp')\n",
    "\n",
    "#server_addr = input()\n",
    "#db_name = input()\n",
    "#provider_id = input()\n",
    "\n",
    "server_addr = \"na+sm://5383/0\"\n",
    "provider_id = 1\n",
    "db_name = \"foo\""
   ]
  },
  {
   "cell_type": "code",
   "execution_count": 3,
   "metadata": {},
   "outputs": [],
   "source": [
    "client = SDSKVClient(engine)\n",
    "addr = engine.lookup(server_addr)\n",
    "provider_handle = client.create_provider_handle(addr, provider_id)\n",
    "db = provider_handle.open(db_name)"
   ]
  },
  {
   "cell_type": "code",
   "execution_count": 4,
   "metadata": {},
   "outputs": [
    {
     "name": "stdout",
     "output_type": "stream",
     "text": [
      "1\n",
      "['PAPI_BR_UCN']\n"
     ]
    }
   ],
   "source": [
    "num_papi_counters = int(db.get(\"num_papi_counters\"))\n",
    "print(num_papi_counters)\n",
    "papi_counters = []\n",
    "for i in range(num_papi_counters):\n",
    "    key = \"papi_counter_\" + str(i)\n",
    "    papi_counters.append(db.get(key))\n",
    "\n",
    "print(papi_counters)"
   ]
  },
  {
   "cell_type": "code",
   "execution_count": null,
   "metadata": {},
   "outputs": [],
   "source": []
  },
  {
   "cell_type": "code",
   "execution_count": 6,
   "metadata": {},
   "outputs": [],
   "source": [
    "db.put(\"ADD_PAPI_COUNTER_1\",\"PAPI_L1_ICM\")\n"
   ]
  },
  {
   "cell_type": "code",
   "execution_count": 9,
   "metadata": {},
   "outputs": [
    {
     "name": "stdout",
     "output_type": "stream",
     "text": [
      "3\n"
     ]
    },
    {
     "ename": "KeyError",
     "evalue": "'papi_counter_1'",
     "output_type": "error",
     "traceback": [
      "\u001b[0;31m---------------------------------------------------------------------------\u001b[0m",
      "\u001b[0;31mKeyError\u001b[0m                                  Traceback (most recent call last)",
      "\u001b[0;32m<ipython-input-9-bfa39a53d90a>\u001b[0m in \u001b[0;36m<module>\u001b[0;34m\u001b[0m\n\u001b[1;32m      4\u001b[0m \u001b[0;32mfor\u001b[0m \u001b[0mi\u001b[0m \u001b[0;32min\u001b[0m \u001b[0mrange\u001b[0m\u001b[0;34m(\u001b[0m\u001b[0;36m2\u001b[0m\u001b[0;34m)\u001b[0m\u001b[0;34m:\u001b[0m\u001b[0;34m\u001b[0m\u001b[0;34m\u001b[0m\u001b[0m\n\u001b[1;32m      5\u001b[0m     \u001b[0mkey\u001b[0m \u001b[0;34m=\u001b[0m \u001b[0;34m\"papi_counter_\"\u001b[0m \u001b[0;34m+\u001b[0m \u001b[0mstr\u001b[0m\u001b[0;34m(\u001b[0m\u001b[0mi\u001b[0m\u001b[0;34m)\u001b[0m\u001b[0;34m\u001b[0m\u001b[0;34m\u001b[0m\u001b[0m\n\u001b[0;32m----> 6\u001b[0;31m     \u001b[0mpapi_counters\u001b[0m\u001b[0;34m.\u001b[0m\u001b[0mappend\u001b[0m\u001b[0;34m(\u001b[0m\u001b[0mdb\u001b[0m\u001b[0;34m.\u001b[0m\u001b[0mget\u001b[0m\u001b[0;34m(\u001b[0m\u001b[0mkey\u001b[0m\u001b[0;34m)\u001b[0m\u001b[0;34m)\u001b[0m\u001b[0;34m\u001b[0m\u001b[0;34m\u001b[0m\u001b[0m\n\u001b[0m\u001b[1;32m      7\u001b[0m \u001b[0;34m\u001b[0m\u001b[0m\n\u001b[1;32m      8\u001b[0m \u001b[0mprint\u001b[0m\u001b[0;34m(\u001b[0m\u001b[0mpapi_counters\u001b[0m\u001b[0;34m)\u001b[0m\u001b[0;34m\u001b[0m\u001b[0;34m\u001b[0m\u001b[0m\n",
      "\u001b[0;32m~/software/spack/opt/spack/linux-ubuntu19.10-skylake/gcc-7.4.0/py-sdskv-0.1.3-65gjal2dcf7frcz4jvw5l25vqtfa4hnv/lib/python3.7/site-packages/pysdskv/client.py\u001b[0m in \u001b[0;36mget\u001b[0;34m(self, key, value_size)\u001b[0m\n\u001b[1;32m    145\u001b[0m         \u001b[0mval\u001b[0m \u001b[0;34m=\u001b[0m \u001b[0m_pysdskvclient\u001b[0m\u001b[0;34m.\u001b[0m\u001b[0mget\u001b[0m\u001b[0;34m(\u001b[0m\u001b[0mself\u001b[0m\u001b[0;34m.\u001b[0m\u001b[0m_sdskv_ph\u001b[0m\u001b[0;34m.\u001b[0m\u001b[0m_ph\u001b[0m\u001b[0;34m,\u001b[0m \u001b[0mself\u001b[0m\u001b[0;34m.\u001b[0m\u001b[0m_db_id\u001b[0m\u001b[0;34m,\u001b[0m \u001b[0mkey\u001b[0m\u001b[0;34m,\u001b[0m \u001b[0mvalue_size\u001b[0m\u001b[0;34m)\u001b[0m\u001b[0;34m\u001b[0m\u001b[0;34m\u001b[0m\u001b[0m\n\u001b[1;32m    146\u001b[0m         \u001b[0;32mif\u001b[0m\u001b[0;34m(\u001b[0m\u001b[0mval\u001b[0m \u001b[0;32mis\u001b[0m \u001b[0;32mNone\u001b[0m\u001b[0;34m)\u001b[0m\u001b[0;34m:\u001b[0m\u001b[0;34m\u001b[0m\u001b[0;34m\u001b[0m\u001b[0m\n\u001b[0;32m--> 147\u001b[0;31m             \u001b[0;32mraise\u001b[0m \u001b[0mKeyError\u001b[0m\u001b[0;34m(\u001b[0m\u001b[0mkey\u001b[0m\u001b[0;34m)\u001b[0m\u001b[0;34m\u001b[0m\u001b[0;34m\u001b[0m\u001b[0m\n\u001b[0m\u001b[1;32m    148\u001b[0m         \u001b[0;32melse\u001b[0m\u001b[0;34m:\u001b[0m\u001b[0;34m\u001b[0m\u001b[0;34m\u001b[0m\u001b[0m\n\u001b[1;32m    149\u001b[0m             \u001b[0;32mreturn\u001b[0m \u001b[0mval\u001b[0m\u001b[0;34m\u001b[0m\u001b[0;34m\u001b[0m\u001b[0m\n",
      "\u001b[0;31mKeyError\u001b[0m: 'papi_counter_1'"
     ]
    }
   ],
   "source": [
    "num_papi_counters = int(db.get(\"num_papi_counters\"))\n",
    "print(num_papi_counters)\n",
    "papi_counters = []\n",
    "for i in range(2):\n",
    "    key = \"papi_counter_\" + str(i)\n",
    "    papi_counters.append(db.get(key))\n",
    "\n",
    "print(papi_counters)"
   ]
  },
  {
   "cell_type": "code",
   "execution_count": 5,
   "metadata": {},
   "outputs": [],
   "source": [
    "db.put(\"ADD_PAPI_COUNTER_1\",\"PAPI_L1_LCM\")"
   ]
  },
  {
   "cell_type": "code",
   "execution_count": null,
   "metadata": {},
   "outputs": [],
   "source": [
    "num_ranks = int(db.get(\"numRanks\"))\n",
    "db.get(\"numRanks\")"
   ]
  },
  {
   "cell_type": "code",
   "execution_count": null,
   "metadata": {},
   "outputs": [],
   "source": [
    "num_papi_counters = int(db.get(\"num_papi_counters\"))\n",
    "papi_counters = []\n",
    "for i in range(num_papi_counters):\n",
    "    key = \"papi_counter_\" + str(i)\n",
    "    papi_counters.append(db.get(key))\n",
    "\n",
    "print(papi_counters)"
   ]
  },
  {
   "cell_type": "code",
   "execution_count": null,
   "metadata": {},
   "outputs": [],
   "source": [
    "db.put(\"add_papi_counter_0\",\"PAPI_L1_LDM\")\n",
    "db.put(\"add_papi_counter_1\",\"PAPI_L1_ICM\")"
   ]
  },
  {
   "cell_type": "code",
   "execution_count": null,
   "metadata": {},
   "outputs": [],
   "source": [
    "num_papi_counters = int(db.get(\"num_papi_counters\"))\n",
    "print(num_papi_counters)\n",
    "papi_counters = []\n",
    "for i in range(num_papi_counters):\n",
    "    key = \"papi_counter_\" + str(i)\n",
    "    papi_counters.append(db.get(key))\n",
    "\n",
    "print(papi_counters)"
   ]
  },
  {
   "cell_type": "code",
   "execution_count": null,
   "metadata": {},
   "outputs": [],
   "source": [
    "num_timesteps = int(db.get(\"current_timestep\"))-1\n",
    "print(num_timesteps)\n",
    "\n",
    "counters = []\n",
    "count = 0\n",
    "for p in papi_counters:\n",
    "    r_counter = []\n",
    "    for r in range(num_ranks):\n",
    "        t_counter = []\n",
    "        for t in range(num_timesteps):\n",
    "            key = p + \"_\" + str(t) + \"_\" + str(r)\n",
    "            value = db.get(key)\n",
    "            t_counter.append(int(value))\n",
    "        r_counter.append(t_counter)\n",
    "    counters.append(r_counter)\n",
    "    count =  count + 1\n",
    "    \n",
    "#print(counters)\n",
    "\n",
    "timesteps = np.arange(num_timesteps)\n",
    "\n",
    "plt.plot(timesteps, counters[0][0], label=papi_counters[0], linestyle='-', marker='o')\n",
    "plt.plot(timesteps, counters[0][1], label=papi_counters[1], linestyle='-', marker='x')\n",
    "plt.plot(timesteps, counters[0][2], label=papi_counters[2], linestyle='-', marker='.')\n",
    "plt.legend()\n",
    "plt.title(\"Papi counters\")\n",
    "print(counters[0])"
   ]
  },
  {
   "cell_type": "code",
   "execution_count": null,
   "metadata": {},
   "outputs": [],
   "source": [
    "ranks = list(range(num_ranks))\n",
    "timesteps = list(range(num_timesteps))\n",
    "\n",
    "heatmap = counters[0]\n",
    "print(heatmap)\n",
    "\n",
    "fig, ax = plt.subplots()\n",
    "im = ax.imshow(heatmap)\n",
    "\n",
    "# We want to show all ticks...\n",
    "ax.set_xticks(np.arange(len(timesteps)))\n",
    "ax.set_yticks(np.arange(len(ranks)))\n",
    "\n",
    "ax.set_xticklabels(timesteps)\n",
    "ax.set_yticklabels(ranks)\n",
    "\n",
    "ax.tick_params(top=True, bottom=False, labeltop=True, labelbottom=False)\n",
    "\n",
    "    # Rotate the tick labels and set their alignment.\n",
    "plt.setp(ax.get_xticklabels(), rotation=-30, ha=\"right\", rotation_mode=\"anchor\")\n",
    "\n",
    "\n",
    "for edge, spine in ax.spines.items():\n",
    "    spine.set_visible(False)\n",
    "    \n",
    "ax.set_xticks(np.arange(len(timesteps)+1)+.5, minor=True)\n",
    "ax.set_yticks(np.arange(len(ranks)+1)-.5, minor=True)\n",
    "\n",
    "ax.grid(which=\"minor\", color=\"w\", linestyle='-', linewidth=3)\n",
    "ax.tick_params(which=\"minor\", bottom=False, left=False)\n",
    "\n",
    "\n",
    "\n",
    "# Loop over data dimensions and create text annotations.\n",
    "for i in range(len(ranks)):\n",
    "    for j in range(len(timesteps)):\n",
    "        text = ax.text(j, i, heatmap[i][j], ha=\"center\", va=\"center\", color=\"w\")\n",
    "\n",
    "ax.set_title(\"PAPI_L1_DCM\")\n",
    "\n",
    "plt.ylabel('ranks')\n",
    "plt.xlabel('timesteps')\n",
    "plt.show()"
   ]
  },
  {
   "cell_type": "code",
   "execution_count": null,
   "metadata": {},
   "outputs": [],
   "source": [
    "num_timesteps = int(db.get(\"current_timestep\"))-1\n",
    "counters = []\n",
    "for t in range(num_timesteps):\n",
    "    r_counter = []\n",
    "    for r in range(num_ranks):\n",
    "        key = \"comp-time_ts_\" + str(t) + \"_\" + str(r)\n",
    "        value = db.get(key)\n",
    "        r_counter.append(float(value))\n",
    "    counters.append(r_counter)\n",
    "print(counters)\n",
    "\n",
    "\n",
    "each_rank = np.arange(num_ranks)\n",
    "\n",
    "\n",
    "for t in range(num_timesteps):\n",
    "    plt.bar(each_rank, counters[t])\n",
    "    \n",
    "    plt.title(\"timstep \" + str(t))\n",
    "    plt.tight_layout()\n",
    "    plt.show()\n",
    "    \n"
   ]
  },
  {
   "cell_type": "code",
   "execution_count": null,
   "metadata": {},
   "outputs": [],
   "source": [
    "import itk\n",
    "import vtk\n",
    "from itkwidgets import view"
   ]
  },
  {
   "cell_type": "code",
   "execution_count": null,
   "metadata": {},
   "outputs": [],
   "source": [
    "filename = \"/home/pascal/projects/SciDAC/InSituWriters/build/testStructuredMPI_8.pvts\"\n",
    "reader = vtk.vtkXMLPStructuredGridReader()\n",
    "reader.SetFileName(filename)\n",
    "reader.Update()\n",
    "grid = reader.GetOutput()\n",
    "print(grid)"
   ]
  },
  {
   "cell_type": "code",
   "execution_count": null,
   "metadata": {},
   "outputs": [],
   "source": [
    "\n",
    "\n",
    "\n",
    "scalar_range = grid.GetCellData().GetArray(\"_rank\").GetRange()\n",
    "print(scalar_range)\n",
    "colorData = grid.GetCellData().GetArray(\"_rank\")\n",
    "print(colorData)\n",
    "grid.GetCellData().SetScalars(colorData)\n",
    "tableSize = grid.GetCellData().GetArray(\"_rank\").GetNumberOfTuples()\n",
    "lut1 = MakeLUTFromCTF(tableSize)\n",
    "\n",
    "\t# into graphics elements\n",
    "mapper = vtk.vtkDataSetMapper()\n",
    "mapper.SetInputConnection(reader.GetOutputPort())\n",
    "mapper.SetScalarRange(scalar_range)\n",
    "mapper.SetScalarModeToUseFieldData()\n",
    "\n",
    "mapper.SetLookupTable(lut1)\n",
    "mapper.Update()\n",
    "\n",
    "\n",
    "# Create the Actor\n",
    "actor = vtk.vtkActor()\n",
    "actor.SetMapper(mapper)"
   ]
  },
  {
   "cell_type": "code",
   "execution_count": null,
   "metadata": {},
   "outputs": [],
   "source": [
    "view(geometries=grid,)"
   ]
  },
  {
   "cell_type": "code",
   "execution_count": null,
   "metadata": {},
   "outputs": [],
   "source": [
    "import pyvista as pv\n",
    "print(filename)\n",
    "mesh = pv.read(filename)"
   ]
  },
  {
   "cell_type": "code",
   "execution_count": null,
   "metadata": {},
   "outputs": [],
   "source": []
  }
 ],
 "metadata": {
  "kernelspec": {
   "display_name": "Python 3",
   "language": "python",
   "name": "python3"
  },
  "language_info": {
   "codemirror_mode": {
    "name": "ipython",
    "version": 3
   },
   "file_extension": ".py",
   "mimetype": "text/x-python",
   "name": "python",
   "nbconvert_exporter": "python",
   "pygments_lexer": "ipython3",
   "version": "3.7.4"
  }
 },
 "nbformat": 4,
 "nbformat_minor": 2
}
